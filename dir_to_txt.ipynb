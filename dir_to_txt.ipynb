{
 "cells": [
  {
   "cell_type": "code",
   "execution_count": 1,
   "id": "196aec7f",
   "metadata": {},
   "outputs": [],
   "source": [
    "import os\n",
    "import numpy as np\n",
    "from tqdm import tqdm,trange"
   ]
  },
  {
   "cell_type": "code",
   "execution_count": 10,
   "id": "4c815b3c",
   "metadata": {},
   "outputs": [
    {
     "name": "stderr",
     "output_type": "stream",
     "text": [
      "3it [00:00,  8.60it/s]"
     ]
    },
    {
     "name": "stdout",
     "output_type": "stream",
     "text": [
      "10465\n"
     ]
    },
    {
     "name": "stderr",
     "output_type": "stream",
     "text": [
      "\n"
     ]
    }
   ],
   "source": [
    "c=0\n",
    "for dirPath, dirNames, fileNames in tqdm(os.walk(r\"F:\\nuck\\data\\tumor\\3d_data\")):\n",
    "    #print(dirPath)\n",
    "    if (dirPath.split('\\\\')[-1]=='good2'):\n",
    "       \n",
    "        for i in fileNames:\n",
    "            with open(r'F:\\nuck\\data\\tumor\\3d_data\\target.txt', 'a') as f:\n",
    "                if c>10000:\n",
    "                    f.write(dirPath +'/'+i+' 1\\n')\n",
    "                c+=1\n",
    "            if c==10465:\n",
    "                break\n",
    "            f.close()\n",
    "            #print(dirPath +'/'+ i)\n",
    "            \n",
    "        print(c)\n",
    "#         for i in fileNames:\n",
    "#             f = open('Art.txt','a')\n",
    "#             f.write(dirPath + fileNames+' 0' )\n",
    "#     if (dirPath.split('/')[-1]=='ng'):\n",
    "#         for i in fileNames:\n",
    "#             f = open('Art.txt','a')\n",
    "#             f.write(dirPath + fileNames + ' 1' )\n",
    "    \n",
    "    \n",
    "    \n",
    "    "
   ]
  },
  {
   "cell_type": "code",
   "execution_count": null,
   "id": "72ef7f85",
   "metadata": {},
   "outputs": [],
   "source": []
  }
 ],
 "metadata": {
  "kernelspec": {
   "display_name": "Python 3",
   "language": "python",
   "name": "python3"
  },
  "language_info": {
   "codemirror_mode": {
    "name": "ipython",
    "version": 3
   },
   "file_extension": ".py",
   "mimetype": "text/x-python",
   "name": "python",
   "nbconvert_exporter": "python",
   "pygments_lexer": "ipython3",
   "version": "3.8.9"
  },
  "vscode": {
   "interpreter": {
    "hash": "f544ce1a915a9875fad91c894e2c0bcad4b7a79945aa6027ef3ad27810072aa6"
   }
  }
 },
 "nbformat": 4,
 "nbformat_minor": 5
}
